{
 "cells": [
  {
   "metadata": {},
   "cell_type": "markdown",
   "source": "",
   "id": "d7fc4757b3482e17"
  },
  {
   "metadata": {},
   "cell_type": "markdown",
   "source": [
    " !git clone https://github.com/compsciencelab/mdCATH.git ../data/mdCATH <br>\n",
    " !pip install --upgrade huggingface_hub <br>\n",
    "!pip install 'huggingface_hub[cli,torch]' <br>\n",
    "!pip install --upgrade huggingface_hub <br><br>\n"
   ],
   "id": "c29bd7594d74ca77"
  },
  {
   "metadata": {},
   "cell_type": "markdown",
   "source": "#### Retrieve HDF5 files of mdCATH data:",
   "id": "eb1dcc840ba05170"
  },
  {
   "metadata": {
    "ExecuteTime": {
     "end_time": "2025-06-26T15:48:25.967940Z",
     "start_time": "2025-06-26T15:48:25.957735Z"
    }
   },
   "cell_type": "code",
   "source": [
    "# This is copy-pasted from `data/mdCATH/mdCATH/user/0_get_file_from_hugging_face.ipynb`:\n",
    "import os\n",
    "from os.path import join as opj\n",
    "from huggingface_hub import HfApi\n",
    "from huggingface_hub import hf_hub_download\n",
    "from huggingface_hub import hf_hub_url\n",
    "# Initialise the API\n",
    "api = HfApi()\n",
    "# Output directory\n",
    "data_root = '.'\n",
    "domain_id = '1r9lA02'\n",
    "hf_hub_download(repo_id=\"compsciencelab/mdCATH\",\n",
    "                filename=f\"mdcath_dataset_{domain_id}.h5\",\n",
    "                subfolder='data',\n",
    "                local_dir=data_root,\n",
    "                repo_type=\"dataset\")"
   ],
   "id": "562cec255fa1ec93",
   "outputs": [],
   "execution_count": 3
  },
  {
   "metadata": {},
   "cell_type": "code",
   "outputs": [],
   "execution_count": null,
   "source": "",
   "id": "6356030a6e208194"
  },
  {
   "metadata": {},
   "cell_type": "code",
   "outputs": [],
   "execution_count": null,
   "source": "",
   "id": "11394817be70c89f"
  }
 ],
 "metadata": {
  "kernelspec": {
   "display_name": "Python 3",
   "language": "python",
   "name": "python3"
  },
  "language_info": {
   "codemirror_mode": {
    "name": "ipython",
    "version": 2
   },
   "file_extension": ".py",
   "mimetype": "text/x-python",
   "name": "python",
   "nbconvert_exporter": "python",
   "pygments_lexer": "ipython2",
   "version": "2.7.6"
  }
 },
 "nbformat": 4,
 "nbformat_minor": 5
}
