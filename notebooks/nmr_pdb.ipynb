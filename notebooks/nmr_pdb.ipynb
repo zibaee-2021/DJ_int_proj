{
 "cells": [
  {
   "cell_type": "code",
   "id": "initial_id",
   "metadata": {
    "collapsed": true,
    "ExecuteTime": {
     "end_time": "2025-06-24T14:15:04.773646Z",
     "start_time": "2025-06-24T14:15:04.765229Z"
    }
   },
   "source": [
    "import os\n",
    "import glob\n",
    "import json\n",
    "from Bio.PDB.MMCIF2Dict import MMCIF2Dict\n",
    "from src.utils import api_callr as api\n",
    "from src.utils import cif_parsr as cp\n",
    "# %load_ext autoreload\n",
    "# %autoreload 2"
   ],
   "outputs": [],
   "execution_count": 3
  },
  {
   "metadata": {
    "ExecuteTime": {
     "end_time": "2025-06-24T13:43:22.740934Z",
     "start_time": "2025-06-24T13:43:22.686491Z"
    }
   },
   "cell_type": "code",
   "source": [
    "# # GET RAW mmCIF FILES FOR ALL SOLUTION NMR DATA\n",
    "# %load_ext autoreload\n",
    "# %autoreload 2\n",
    "#\n",
    "# relpath = '../data/NMR/raw_cifs/'\n",
    "#\n",
    "# meric = 'homomeric/'\n",
    "# sol_nmr_homo_686_pdbids = api.call_rcsb_for_pdbids_of_solution_nmr_homomeric(number=686)\n",
    "# for homo_pdbid in sol_nmr_homo_686_pdbids:\n",
    "#     response = api.call_rcsb_for_cif(homo_pdbid)\n",
    "#     with open(f'{relpath}{meric}{homo_pdbid}.cif', 'w') as cif_file:\n",
    "#         cif_file.write(response.text)\n",
    "#\n",
    "# meric = 'heteromeric/'\n",
    "# sol_nmr_hetero_1038_pdbids = api.call_rcsb_for_pdbids_of_solution_nmr_heteromeric(number=1038)\n",
    "# for hetero_pdbid in sol_nmr_hetero_1038_pdbids:\n",
    "#     response = api.call_rcsb_for_cif(hetero_pdbid)\n",
    "#     with open(f'{relpath}{meric}/{hetero_pdbid}.cif', 'w') as cif_file:\n",
    "#         cif_file.write(response.text)"
   ],
   "id": "14695c11c32b9a5f",
   "outputs": [],
   "execution_count": 4
  },
  {
   "metadata": {
    "ExecuteTime": {
     "end_time": "2025-06-24T14:57:47.695680Z",
     "start_time": "2025-06-24T14:57:47.659519Z"
    }
   },
   "cell_type": "code",
   "source": [
    "# CONVERT RAW mmCIFs TO DICTS. PARSE & TOKENISE THESE:\n",
    "# %load_ext autoreload\n",
    "# %autoreload 2\n",
    "\n",
    "meric = 'homomeric'\n",
    "meric = 'heteromeric' # COMMENT OUT AS APPROPRIATE\n",
    "\n",
    "relpath_homo_cifs = glob.glob(os.path.join(f'../data/NMR/raw_cifs/{meric}', f'*.cif'))\n",
    "for relpath_cif in relpath_homo_cifs:\n",
    "    cif_dict = MMCIF2Dict(relpath_cif)\n",
    "    pdbid = os.path.basename(relpath_cif).removesuffix('.cif')\n",
    "    cif_pdfs_per_chain = cp.parse_cif(pdb_id=pdbid, mmcif_dict=cif_dict)  # AS MSC PROJ BUT ALPHA-CARBONS ONLY.\n",
    "\n",
    "    for pdf_chain in cif_pdfs_per_chain:\n",
    "        # ENUMERATE RESIDUES:\n",
    "        with open('../data/enumeration/residues.json', 'r') as json_f:\n",
    "            residues_enumerated = json.load(json_f)\n",
    "        pdf_chain = pdf_chain.copy()\n",
    "        pdf_chain.loc[:, 'aa_label_num'] = pdf_chain['S_mon_id'].map(residues_enumerated).astype('Int64')\n",
    "\n",
    "        # GET CHAIN AND MODEL NUM FOR FILENAME (BEFORE DROPPING COLUMN):\n",
    "        chain = pdf_chain['S_asym_id'].iloc[0]\n",
    "\n",
    "        # REORDER COLUMNS:\n",
    "        pdf_chain = pdf_chain[['A_pdbx_PDB_model_num', 'S_seq_id', 'S_mon_id',  'aa_label_num', 'A_id',\n",
    "                               'A_Cartn_x', 'A_Cartn_y', 'A_Cartn_z']]\n",
    "        expected_num_of_cols = 8\n",
    "        assert len(pdf_chain.columns) == expected_num_of_cols, \\\n",
    "        (f'Dataframe should have {expected_num_of_cols} columns. '\n",
    "         f'But this has {len(pdf_chain.columns)}')\n",
    "\n",
    "        pdf_chain.to_csv(path_or_buf=f'../data/NMR/tokenised_cifs/hetero_/{pdbid}_{chain}.ssv',\n",
    "                         sep=' ', index=False)\n",
    "        # pdf_chain.to_csv(path_or_buf=f'../data/NMR/tokenised_cifs/{meric}/{pdbid}_{chain}.ssv',\n",
    "        #                  sep=' ', index=False)"
   ],
   "id": "bb59c4a481d59718",
   "outputs": [],
   "execution_count": 12
  },
  {
   "metadata": {},
   "cell_type": "code",
   "outputs": [],
   "execution_count": null,
   "source": "",
   "id": "cf1b8ce5df9926fd"
  }
 ],
 "metadata": {
  "kernelspec": {
   "display_name": "Python 3",
   "language": "python",
   "name": "python3"
  },
  "language_info": {
   "codemirror_mode": {
    "name": "ipython",
    "version": 2
   },
   "file_extension": ".py",
   "mimetype": "text/x-python",
   "name": "python",
   "nbconvert_exporter": "python",
   "pygments_lexer": "ipython2",
   "version": "2.7.6"
  }
 },
 "nbformat": 4,
 "nbformat_minor": 5
}
